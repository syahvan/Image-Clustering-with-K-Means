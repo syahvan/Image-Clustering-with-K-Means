{
  "cells": [
    {
      "cell_type": "markdown",
      "metadata": {
        "id": "view-in-github",
        "colab_type": "text"
      },
      "source": [
        "<a href=\"https://colab.research.google.com/github/syahvan/Image-Clustering-with-K-Means/blob/main/Image%20Clustering%20K-Means.ipynb\" target=\"_parent\"><img src=\"https://colab.research.google.com/assets/colab-badge.svg\" alt=\"Open In Colab\"/></a>"
      ]
    },
    {
      "cell_type": "code",
      "execution_count": null,
      "metadata": {
        "id": "HaWybqKpNi0k"
      },
      "outputs": [],
      "source": [
        "#Import Library\n",
        "import numpy as np\n",
        "import tensorflow as tf \n",
        "import matplotlib.pyplot as plt\n",
        "from sklearn.cluster import KMeans\n",
        "from sklearn.metrics import silhouette_score\n",
        "import cv2\n",
        "import os, glob, shutil"
      ]
    },
    {
      "cell_type": "code",
      "source": [
        "#Mounted dataset dari drive\n",
        "from google.colab import drive\n",
        "drive.mount('/content/drive')"
      ],
      "metadata": {
        "colab": {
          "base_uri": "https://localhost:8080/"
        },
        "id": "8G-LBYloOSFp",
        "outputId": "39a14cb3-09c2-4122-930f-142200b763e3"
      },
      "execution_count": null,
      "outputs": [
        {
          "output_type": "stream",
          "name": "stdout",
          "text": [
            "Mounted at /content/drive\n"
          ]
        }
      ]
    },
    {
      "cell_type": "code",
      "execution_count": null,
      "metadata": {
        "id": "09bi3mIXNi0o"
      },
      "outputs": [],
      "source": [
        "#Path dataset\n",
        "input_dir = '/content/drive/MyDrive/Dataset/final'\n",
        "glob_dir = input_dir + '/*.jpeg'"
      ]
    },
    {
      "cell_type": "code",
      "execution_count": null,
      "metadata": {
        "tags": [],
        "id": "RKXt3Fy4Ni0o"
      },
      "outputs": [],
      "source": [
        "#Image Preprocessing\n",
        "images = [cv2.resize(cv2.imread(file), (224, 224)) for file in glob.glob(glob_dir)]\n",
        "paths = [file for file in glob.glob(glob_dir)]\n",
        "images = np.array(np.float32(images).reshape(len(images), -1)/255)"
      ]
    },
    {
      "cell_type": "code",
      "source": [
        "len(images)"
      ],
      "metadata": {
        "colab": {
          "base_uri": "https://localhost:8080/"
        },
        "id": "K0Y_iQ-NOnmR",
        "outputId": "d8c717db-8ae2-4dcd-aae3-60ab155fefb7"
      },
      "execution_count": null,
      "outputs": [
        {
          "output_type": "execute_result",
          "data": {
            "text/plain": [
              "1622"
            ]
          },
          "metadata": {},
          "execution_count": 9
        }
      ]
    },
    {
      "cell_type": "code",
      "execution_count": null,
      "metadata": {
        "tags": [],
        "colab": {
          "base_uri": "https://localhost:8080/"
        },
        "id": "CEoEU1XQNi0o",
        "outputId": "904213e5-d721-404c-bb61-86badef77744"
      },
      "outputs": [
        {
          "output_type": "stream",
          "name": "stdout",
          "text": [
            "Downloading data from https://storage.googleapis.com/tensorflow/keras-applications/mobilenet_v2/mobilenet_v2_weights_tf_dim_ordering_tf_kernels_1.0_224_no_top.h5\n",
            "9406464/9406464 [==============================] - 0s 0us/step\n",
            "51/51 [==============================] - 46s 874ms/step\n"
          ]
        }
      ],
      "source": [
        "#Feature extraction dengan transfer learning MobileNetV2\n",
        "model = tf.keras.applications.MobileNetV2(include_top=False, weights='imagenet', input_shape=(224, 224, 3))\n",
        "predictions = model.predict(images.reshape(-1, 224, 224, 3))\n",
        "pred_images = predictions.reshape(images.shape[0], -1)"
      ]
    },
    {
      "cell_type": "code",
      "execution_count": null,
      "metadata": {
        "id": "RnVs_fsgNi0p"
      },
      "outputs": [],
      "source": [
        "#Menentukan nilai K dengan Silhouette Method\n",
        "sil = []\n",
        "kl = []\n",
        "kmax = 10\n",
        "\n",
        "for k in range(2, kmax+1):\n",
        "  kmeans2 = KMeans(n_clusters = k).fit(pred_images)\n",
        "  labels = kmeans2.labels_\n",
        "  sil.append(silhouette_score(pred_images, labels, metric = 'euclidean'))\n",
        "  kl.append(k)"
      ]
    },
    {
      "cell_type": "code",
      "execution_count": null,
      "metadata": {
        "colab": {
          "base_uri": "https://localhost:8080/",
          "height": 295
        },
        "id": "E7WK7eAINi0p",
        "outputId": "364684c1-da8f-42df-c44f-13b35abc837d"
      },
      "outputs": [
        {
          "output_type": "display_data",
          "data": {
            "text/plain": [
              "<Figure size 432x288 with 1 Axes>"
            ],
            "image/png": "[encoded data removed]"
          },
          "metadata": {
            "needs_background": "light"
          }
        }
      ],
      "source": [
        "plt.plot(kl, sil)\n",
        "plt.ylabel('Silhoutte Score')\n",
        "plt.xlabel('K')\n",
        "plt.title('Silhouette Method')\n",
        "plt.show()"
      ]
    },
    {
      "cell_type": "code",
      "source": [
        "#Menentukan nilai K dengan Elbow Method\n",
        "inertia = []\n",
        "for k in range(2, kmax+1):\n",
        "    kmeans3 = KMeans(n_clusters=k).fit(pred_images)\n",
        "    inertia.append(kmeans3.inertia_)"
      ],
      "metadata": {
        "id": "NSIxRAeMdaY5"
      },
      "execution_count": null,
      "outputs": []
    },
    {
      "cell_type": "code",
      "source": [
        "plt.plot(kl, inertia)\n",
        "plt.ylabel('Sum of Squared Error (Inertia)')\n",
        "plt.xlabel('Number of Cluster')\n",
        "plt.title('Elbow Method')\n",
        "plt.show()"
      ],
      "metadata": {
        "colab": {
          "base_uri": "https://localhost:8080/",
          "height": 295
        },
        "id": "El352aSDeDd7",
        "outputId": "653339e7-034f-484b-b97b-e8ea5e3a5a05"
      },
      "execution_count": null,
      "outputs": [
        {
          "output_type": "display_data",
          "data": {
            "text/plain": [
              "<Figure size 432x288 with 1 Axes>"
            ],
            "image/png": "[encoded data removed]"
          },
          "metadata": {
            "needs_background": "light"
          }
        }
      ]
    },
    {
      "cell_type": "markdown",
      "source": [
        "Pada Elbow Method, bentuk siku tidak terlalu terlihat sehingga kurang jelas berapa nilai k terbaik untuk dipilih. Pada Silhouette Method, nilai puncak terlihat jelas yaitu pada saat k = 3. Oleh karena itu, data akan dibagi menjadi 3 cluster"
      ],
      "metadata": {
        "id": "rMcF-tLav9Ss"
      }
    },
    {
      "cell_type": "code",
      "execution_count": null,
      "metadata": {
        "tags": [],
        "id": "HseJauvXNi0q"
      },
      "outputs": [],
      "source": [
        "#Membagi data menjadi 3 cluster dalam folder yang berbeda\n",
        "k = 3\n",
        "kmodel = KMeans(n_clusters=k, random_state=728)\n",
        "kmodel.fit(pred_images)\n",
        "kpredictions = kmodel.predict(pred_images)\n",
        "for i in range(k):\n",
        "\tos.makedirs(\"/content/drive/MyDrive/Dataset/output/cluster\" + str(i))\n",
        "for i in range(len(paths)):\n",
        "\tshutil.copy2(paths[i], \"/content/drive/MyDrive/Dataset/output/cluster\"+str(kpredictions[i]))"
      ]
    },
    {
      "cell_type": "markdown",
      "source": [
        "Hasil pembagian cluster gambar dapat dilihat disini: https://drive.google.com/drive/folders/1OIK2LHU7NaMT6m7JV4VRYEgB5gMHgfxc?usp=share_link\n",
        "\n",
        "Jika dilihat hasilnya dalam ketiga folder cluster, isi gambar pada tiap cluster:\n",
        "1.   cluster0 = Hutan/Pepohonan\n",
        "2.   cluster1 = Pantai\n",
        "3.   cluster2 = Gunung\n",
        "\n",
        "\n",
        "\n",
        "\n"
      ],
      "metadata": {
        "id": "AaRuBLVkxc-r"
      }
    },
    {
      "cell_type": "code",
      "source": [],
      "metadata": {
        "id": "cXDfdUB1sZJB"
      },
      "execution_count": null,
      "outputs": []
    }
  ],
  "metadata": {
    "language_info": {
      "name": "python"
    },
    "orig_nbformat": 2,
    "kernelspec": {
      "name": "python3",
      "display_name": "Python 3"
    },
    "colab": {
      "provenance": [],
      "include_colab_link": true
    },
    "accelerator": "GPU",
    "gpuClass": "standard"
  },
  "nbformat": 4,
  "nbformat_minor": 0
}